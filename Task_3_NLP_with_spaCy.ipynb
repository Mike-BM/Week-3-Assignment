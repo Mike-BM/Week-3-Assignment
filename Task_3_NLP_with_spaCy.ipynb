{
  "nbformat": 4,
  "nbformat_minor": 0,
  "metadata": {
    "colab": {
      "provenance": []
    },
    "kernelspec": {
      "name": "python3",
      "display_name": "Python 3"
    },
    "language_info": {
      "name": "python"
    }
  },
  "cells": [
    {
      "cell_type": "code",
      "execution_count": 1,
      "metadata": {
        "id": "PYDLIa26YDaD"
      },
      "outputs": [],
      "source": [
        "import spacy"
      ]
    },
    {
      "cell_type": "code",
      "source": [
        "# Load spaCy English model\n",
        "nlp = spacy.load(\"en_core_web_sm\")"
      ],
      "metadata": {
        "id": "kSf55StFYGN3"
      },
      "execution_count": 2,
      "outputs": []
    },
    {
      "cell_type": "code",
      "source": [
        "# Sample Amazon product reviews\n",
        "reviews = [\n",
        "    \"I absolutely love my new Samsung Galaxy phone. It's fast and the camera is amazing!\",\n",
        "    \"The Nike shoes were uncomfortable and started falling apart after a week.\",\n",
        "    \"Apple's AirPods are great. Crystal clear sound and perfect for workouts!\",\n",
        "    \"Terrible experience with the Sony headphones. Waste of money.\",\n",
        "    \"I bought a Dell laptop and it works like a charm!\"\n",
        "]"
      ],
      "metadata": {
        "id": "a-u2ilHIYJ_K"
      },
      "execution_count": 3,
      "outputs": []
    },
    {
      "cell_type": "code",
      "source": [
        "# Define basic sentiment keywords\n",
        "positive_keywords = [\"love\", \"amazing\", \"great\", \"perfect\", \"like\", \"fast\", \"crystal clear\", \"works\"]\n",
        "negative_keywords = [\"terrible\", \"uncomfortable\", \"falling apart\", \"waste\", \"bad\", \"slow\"]\n"
      ],
      "metadata": {
        "id": "P_jC4-j2Y64n"
      },
      "execution_count": 4,
      "outputs": []
    },
    {
      "cell_type": "code",
      "source": [
        "# Function to analyze review\n",
        "def analyze_review(text):\n",
        "    doc = nlp(text)\n",
        "    # Extract named entities\n",
        "    entities = [(ent.text, ent.label_) for ent in doc.ents if ent.label_ in [\"ORG\", \"PRODUCT\"]]\n",
        "\n",
        "    # Rule-based sentiment analysis\n",
        "    sentiment = \"Neutral\"\n",
        "    lowered = text.lower()\n",
        "    if any(word in lowered for word in positive_keywords):\n",
        "        sentiment = \"Positive\"\n",
        "    elif any(word in lowered for word in negative_keywords):\n",
        "        sentiment = \"Negative\"\n",
        "\n",
        "    return entities, sentiment"
      ],
      "metadata": {
        "id": "wrZDVcIPY-4v"
      },
      "execution_count": 9,
      "outputs": []
    },
    {
      "cell_type": "code",
      "source": [
        " # Run analysis on all reviews\n",
        "for i, review in enumerate(reviews):\n",
        "    entities, sentiment = analyze_review(review)\n",
        "    print(f\"\\n🔹 Review {i+1}: {review}\")\n",
        "    print(f\"   🔍 Extracted Entities: {entities}\")\n",
        "    print(f\"   😊 Sentiment: {sentiment}\")\n"
      ],
      "metadata": {
        "colab": {
          "base_uri": "https://localhost:8080/"
        },
        "id": "TU_fvsgLZCZd",
        "outputId": "03e48fc8-6c19-4a4d-f3e3-469795c8cbad"
      },
      "execution_count": 10,
      "outputs": [
        {
          "output_type": "stream",
          "name": "stdout",
          "text": [
            "\n",
            "🔹 Review 1: I absolutely love my new Samsung Galaxy phone. It's fast and the camera is amazing!\n",
            "   🔍 Extracted Entities: [('Samsung Galaxy', 'ORG')]\n",
            "   😊 Sentiment: Positive\n",
            "\n",
            "🔹 Review 2: The Nike shoes were uncomfortable and started falling apart after a week.\n",
            "   🔍 Extracted Entities: [('Nike', 'ORG')]\n",
            "   😊 Sentiment: Negative\n",
            "\n",
            "🔹 Review 3: Apple's AirPods are great. Crystal clear sound and perfect for workouts!\n",
            "   🔍 Extracted Entities: [('Apple', 'ORG')]\n",
            "   😊 Sentiment: Positive\n",
            "\n",
            "🔹 Review 4: Terrible experience with the Sony headphones. Waste of money.\n",
            "   🔍 Extracted Entities: [('Sony', 'ORG')]\n",
            "   😊 Sentiment: Negative\n",
            "\n",
            "🔹 Review 5: I bought a Dell laptop and it works like a charm!\n",
            "   🔍 Extracted Entities: [('Dell', 'ORG')]\n",
            "   😊 Sentiment: Positive\n"
          ]
        }
      ]
    }
  ]
}